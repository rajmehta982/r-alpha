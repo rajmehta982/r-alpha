{
  "cells": [
    {
      "cell_type": "markdown",
      "id": "3f2521c7-6193-46b7-b250-39998f0ec6e0",
      "metadata": {},
      "source": [
        "## R-alpha"
      ]
    },
    {
      "cell_type": "code",
      "execution_count": null,
      "id": "c904b2ee-541e-4cbd-8a9d-647280bdcfa2",
      "metadata": {
        "tags": []
      },
      "outputs": [],
      "source": [
        "!pip install smartapi-python\n",
        "!pip install websocket-client\n",
        "!pip install logzero\n",
        "!pip install pyotp\n",
        "!pip install requests\n",
        "!pip install numpy\n",
        "!pip install pandas\n",
        "!pip install yfinance"
      ]
    },
    {
      "cell_type": "code",
      "execution_count": null,
      "id": "bfc4447c-79d8-4cc4-87fd-4bace48a4f4d",
      "metadata": {
        "tags": []
      },
      "outputs": [],
      "source": [
        "# package import statement\n",
        "from SmartApi import SmartConnect #or from SmartApi.smartConnect import SmartConnect\n",
        "import pyotp\n",
        "from logzero import logger\n",
        "from connect_api import connect_api, create_api_session\n",
        "from data import get_data_stream, token_lookup, get_instrument_list, hist_data, hist_data_from_now\n",
        "from strategy import expected_buy_price, expected_sell_price, trend_detection, exit_long, exit_short\n",
        "from order import place_limit_order, place_market_order\n",
        "import json\n",
        "import threading\n",
        "import time   "
      ]
    },
    {
      "cell_type": "code",
      "execution_count": null,
      "id": "b7583fdc-7457-4916-9408-f5d43302299b",
      "metadata": {
        "tags": []
      },
      "outputs": [],
      "source": [
        "api_key = '2VTNvx7z'\n",
        "username = 'R258447'\n",
        "pwd = '1499'\n",
        "token_id = '3URP5C2ZUQSYTSEFELMM2CFJGM'"
      ]
    },
    {
      "cell_type": "code",
      "execution_count": null,
      "id": "a8372012-9103-471a-b8ae-42e9aa88994b",
      "metadata": {
        "tags": []
      },
      "outputs": [],
      "source": [
        "smartApi = connect_api(api_key)\n",
        "data = create_api_session(token_id, username, pwd, smartApi)"
      ]
    },
    {
      "cell_type": "markdown",
      "id": "62354512",
      "metadata": {},
      "source": [
        "### Get Ticker Data"
      ]
    },
    {
      "cell_type": "code",
      "execution_count": null,
      "id": "acff5618",
      "metadata": {
        "tags": []
      },
      "outputs": [],
      "source": [
        "instrument_list = get_instrument_list()\n",
        "\n",
        "ticker_list = [\"ITC\"]\n",
        "token_list_0 = []\n",
        "\n",
        "for ticker in ticker_list:\n",
        "    token = token_lookup(ticker, instrument_list, exchange=\"NSE\")\n",
        "    token_list_0.append(token)\n",
        "\n",
        "token_list = [\n",
        "        {\n",
        "            \"exchangeType\": 1,\n",
        "            \"tokens\": token_list_0\n",
        "        }\n",
        "    ]\n",
        "\n",
        "\n",
        "print(token_list)"
      ]
    },
    {
      "cell_type": "markdown",
      "id": "751db0b1",
      "metadata": {},
      "source": [
        "## Create Live Data Stream"
      ]
    },
    {
      "cell_type": "code",
      "execution_count": null,
      "id": "3274500a-410e-4588-b94a-129b932c9535",
      "metadata": {},
      "outputs": [],
      "source": [
        "correlation_id = \"stream_2\" #any string value which will help identify the specific streaming in case of concurrent streaming\n",
        "action = 1 #1 subscribe, 0 unsubscribe\n",
        "mode = 1 #1 for LTP, 2 for Quote and 3 for SnapQuote\n",
        "    \n",
        "sws = get_data_stream(token_id, api_key, username, smartApi.getfeedToken(), token_list, correlation_id, action, mode)"
      ]
    },
    {
      "cell_type": "markdown",
      "id": "4d520e4f-e008-47ea-bbc4-7d9763544db7",
      "metadata": {
        "tags": []
      },
      "source": [
        "## Implement Strategy"
      ]
    },
    {
      "cell_type": "markdown",
      "id": "02b0451e",
      "metadata": {},
      "source": [
        "## Momentum Strategy"
      ]
    },
    {
      "cell_type": "code",
      "execution_count": null,
      "id": "125b4f32",
      "metadata": {},
      "outputs": [],
      "source": [
        "import numpy as np\n",
        "import pandas as pd\n",
        "import requests\n",
        "from datetime import datetime, timedelta\n",
        "\n",
        "# Alpha Vantage API parameters\n",
        "API_KEY = '5PTSVQOUZRRRZN7S'\n",
        "symbol = 'ITC'\n",
        "interval = '5min'  # 5-minute interval data\n",
        "outputsize = 'full'  # Full intraday data\n",
        "\n",
        "# Initialize variables\n",
        "pos1 = int(0)  # 1 for long position, -1 for short position, 0 for no position\n",
        "capital = 1000  # Initial capital in USD\n",
        "current_position_value = 0\n",
        "last_price = 0\n",
        "\n",
        "# Define parameters\n",
        "lookback_period = 12  # Number of intervals to look back for momentum calculation\n",
        "buy_threshold = 0.0000003  # Buy if the price increases by more than 0.5% in the lookback period\n",
        "sell_threshold = -0.005  # Sell if the price decreases by more than 0.5% in the lookback period\n",
        "\n",
        "df = pd.DataFrame(columns=['Price','Returns'])\n",
        "\n",
        "# Fetch intraday price data from Alpha Vantage\n",
        "\n",
        "def momentum_strategy(tick):\n",
        "    token = tick['token']\n",
        "    ltp = tick['last_traded_price']/100\n",
        "    df.loc[len(df),'Price'] = ltp\n",
        "    print(ltp)\n",
        "    # Calculate momentum\n",
        "    df['Returns'] = df['Price'].pct_change()\n",
        "    df['Momentum'] = df['Returns'].rolling(window=lookback_period).sum()\n",
        "\n",
        "    # Implement momentum strategy\n",
        "    \n",
        "    price = df['Price'].iloc[-1]\n",
        "    momentum = df['Momentum'].iloc[-1]\n",
        "  \n",
        "    \n",
        "    if len(df) > lookback_period:\n",
        "        if momentum > buy_threshold:\n",
        "            print('hiiii')\n",
        "            # if pos1 != 1:\n",
        "            current_position_value = capital\n",
        "            # pos1 = 1\n",
        "            last_price = price\n",
        "            print(f\"Buying at {price}\")\n",
        "\n",
        "        elif momentum < sell_threshold:\n",
        "            # if pos1 != -1:  # Enter short position\n",
        "            current_position_value = -capital\n",
        "            # pos1 = -1\n",
        "            last_price = price\n",
        "            print(f\"Selling short at {price}\")\n",
        "\n",
        "\n",
        "\n",
        "def on_data(ws, message):\n",
        "    momentum_strategy(message)\n",
        "\n",
        "sws.on_data = on_data"
      ]
    },
    {
      "cell_type": "markdown",
      "id": "94f457cb-004f-4757-8538-f7cba3d849d4",
      "metadata": {},
      "source": [
        "## misc"
      ]
    },
    {
      "cell_type": "code",
      "execution_count": null,
      "id": "c564dde2-5794-4b56-8168-90755c08c629",
      "metadata": {},
      "outputs": [],
      "source": [
        "correlation_id = \"stream_1\"\n",
        "action = 1\n",
        "mode = 1\n",
        "token_list = [\n",
        "        {\n",
        "            \"exchangeType\": 1,\n",
        "            \"tokens\": [\"26009\"]\n",
        "        }\n",
        "    ]\n",
        "\n",
        "sws = get_data_stream(token_id, api_key, username, smartApi.getfeedToken(), token_list, correlation_id, action, mode)"
      ]
    },
    {
      "cell_type": "code",
      "execution_count": null,
      "id": "8dc7a316-19c7-4080-8f55-17042ce73afb",
      "metadata": {},
      "outputs": [],
      "source": [
        "# Create a new thread and pass the function to it\n",
        "my_thread = threading.Thread(target=sws.connect())\n",
        "\n",
        "# Start the thread\n",
        "my_thread.start()\n",
        "time.sleep(10)"
      ]
    },
    {
      "cell_type": "code",
      "execution_count": null,
      "id": "4821dc96-de4f-4bfc-883b-23fb5c243f20",
      "metadata": {
        "tags": []
      },
      "outputs": [],
      "source": [
        "place_market_order(instrument_list,ticker=\"ITC\",buy_sell=\"BUY\",price=0,quantity=1,obj=smartApi, sl=0,sqof=0,exchange=\"NSE\")"
      ]
    },
    {
      "cell_type": "code",
      "execution_count": null,
      "id": "c636326b-7020-4858-abf2-732c7774ceb6",
      "metadata": {
        "tags": []
      },
      "outputs": [],
      "source": [
        "nifty_50 = hist_data_from_now(smartApi, \"NIFTYBEES\", 2000, \"ONE_DAY\", instrument_list)"
      ]
    },
    {
      "cell_type": "code",
      "execution_count": null,
      "id": "3485e646-71d0-4c7c-bb99-b77902eec98e",
      "metadata": {
        "tags": []
      },
      "outputs": [],
      "source": [
        "nifty_50.to_csv(\"niftybees_2000day_1day.csv\")"
      ]
    },
    {
      "cell_type": "code",
      "execution_count": null,
      "id": "e4f2686f",
      "metadata": {},
      "outputs": [],
      "source": [
        "instrument_list[0]"
      ]
    }
  ],
  "metadata": {
    "file_history": [
      {
        "id": 0,
        "path": "shared - Morningstar/Raj/r-alpha/r-alpha.ipynb"
      }
    ],
    "kernelspec": {
      "display_name": "Python 3",
      "language": "python",
      "name": "python3"
    },
    "language_info": {
      "codemirror_mode": {
        "name": "ipython",
        "version": 3
      },
      "file_extension": ".py",
      "mimetype": "text/x-python",
      "name": "python",
      "nbconvert_exporter": "python",
      "pygments_lexer": "ipython3",
      "version": "3.10.6"
    }
  },
  "nbformat": 4,
  "nbformat_minor": 5
}
