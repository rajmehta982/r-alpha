{
  "cells": [
    {
      "cell_type": "markdown",
      "id": "3f2521c7-6193-46b7-b250-39998f0ec6e0",
      "metadata": {},
      "source": [
        "## R-alpha"
      ]
    },
    {
      "cell_type": "code",
      "execution_count": 2,
      "id": "c904b2ee-541e-4cbd-8a9d-647280bdcfa2",
      "metadata": {
        "tags": []
      },
      "outputs": [
        {
          "name": "stdout",
          "output_type": "stream",
          "text": [
            "Defaulting to user installation because normal site-packages is not writeable\n",
            "Requirement already satisfied: smartapi-python in /home/jovyan/.local/lib/python3.10/site-packages (1.4.8)\n",
            "Requirement already satisfied: six>=1.11.0 in /home/jovyan/.local/lib/python3.10/site-packages (from smartapi-python) (1.16.0)\n",
            "Requirement already satisfied: python-dateutil>=2.6.1 in /home/jovyan/.local/lib/python3.10/site-packages (from smartapi-python) (2.9.0.post0)\n",
            "Collecting requests>=2.18.4\n",
            "  Downloading requests-2.31.0-py3-none-any.whl (62 kB)\n",
            "\u001b[2K     \u001b[90m━━━━━━━━━━━━━━━━━━━━━━━━━━━━━━━━━━━━━━━━\u001b[0m \u001b[32m62.6/62.6 KB\u001b[0m \u001b[31m3.0 MB/s\u001b[0m eta \u001b[36m0:00:00\u001b[0m\n",
            "\u001b[?25hCollecting idna<4,>=2.5\n",
            "  Downloading idna-3.7-py3-none-any.whl (66 kB)\n",
            "\u001b[2K     \u001b[90m━━━━━━━━━━━━━━━━━━━━━━━━━━━━━━━━━━━━━━━━\u001b[0m \u001b[32m66.8/66.8 KB\u001b[0m \u001b[31m10.9 MB/s\u001b[0m eta \u001b[36m0:00:00\u001b[0m\n",
            "\u001b[?25hCollecting certifi>=2017.4.17\n",
            "  Downloading certifi-2024.2.2-py3-none-any.whl (163 kB)\n",
            "\u001b[2K     \u001b[90m━━━━━━━━━━━━━━━━━━━━━━━━━━━━━━━━━━━━━━\u001b[0m \u001b[32m163.8/163.8 KB\u001b[0m \u001b[31m18.0 MB/s\u001b[0m eta \u001b[36m0:00:00\u001b[0m\n",
            "\u001b[?25hCollecting urllib3<3,>=1.21.1\n",
            "  Downloading urllib3-2.2.1-py3-none-any.whl (121 kB)\n",
            "\u001b[2K     \u001b[90m━━━━━━━━━━━━━━━━━━━━━━━━━━━━━━━━━━━━━━\u001b[0m \u001b[32m121.1/121.1 KB\u001b[0m \u001b[31m18.8 MB/s\u001b[0m eta \u001b[36m0:00:00\u001b[0m\n",
            "\u001b[?25hCollecting charset-normalizer<4,>=2\n",
            "  Downloading charset_normalizer-3.3.2-cp310-cp310-manylinux_2_17_x86_64.manylinux2014_x86_64.whl (142 kB)\n",
            "\u001b[2K     \u001b[90m━━━━━━━━━━━━━━━━━━━━━━━━━━━━━━━━━━━━━━\u001b[0m \u001b[32m142.1/142.1 KB\u001b[0m \u001b[31m15.8 MB/s\u001b[0m eta \u001b[36m0:00:00\u001b[0m\n",
            "\u001b[?25hInstalling collected packages: urllib3, idna, charset-normalizer, certifi, requests\n",
            "Successfully installed certifi-2024.2.2 charset-normalizer-3.3.2 idna-3.7 requests-2.31.0 urllib3-2.2.1\n",
            "Defaulting to user installation because normal site-packages is not writeable\n",
            "Collecting websocket-client\n",
            "  Downloading websocket_client-1.7.0-py3-none-any.whl (58 kB)\n",
            "\u001b[2K     \u001b[90m━━━━━━━━━━━━━━━━━━━━━━━━━━━━━━━━━━━━━━━━\u001b[0m \u001b[32m58.5/58.5 KB\u001b[0m \u001b[31m2.7 MB/s\u001b[0m eta \u001b[36m0:00:00\u001b[0m\n",
            "\u001b[?25hInstalling collected packages: websocket-client\n",
            "Successfully installed websocket-client-1.7.0\n",
            "Defaulting to user installation because normal site-packages is not writeable\n",
            "Requirement already satisfied: logzero in /home/jovyan/.local/lib/python3.10/site-packages (1.7.0)\n",
            "Defaulting to user installation because normal site-packages is not writeable\n",
            "Requirement already satisfied: pyotp in /home/jovyan/.local/lib/python3.10/site-packages (2.9.0)\n"
          ]
        }
      ],
      "source": [
        "!pip install smartapi-python\n",
        "!pip install websocket-client\n",
        "!pip install logzero\n",
        "!pip install pyotp"
      ]
    },
    {
      "cell_type": "code",
      "execution_count": 1,
      "id": "bfc4447c-79d8-4cc4-87fd-4bace48a4f4d",
      "metadata": {
        "tags": []
      },
      "outputs": [],
      "source": [
        "# package import statement\n",
        "from SmartApi import SmartConnect #or from SmartApi.smartConnect import SmartConnect\n",
        "import pyotp\n",
        "from logzero import logger\n",
        "from connect_api import connect_api, create_api_session\n",
        "from data import get_data_stream, token_lookup, get_instrument_list\n",
        "from strategy import market_pressure"
      ]
    },
    {
      "cell_type": "code",
      "execution_count": 2,
      "id": "b7583fdc-7457-4916-9408-f5d43302299b",
      "metadata": {
        "tags": []
      },
      "outputs": [],
      "source": [
        "api_key = '2VTNvx7z'\n",
        "username = 'R258447'\n",
        "pwd = '1499'\n",
        "token_id = '3URP5C2ZUQSYTSEFELMM2CFJGM'"
      ]
    },
    {
      "cell_type": "code",
      "execution_count": 3,
      "id": "a8372012-9103-471a-b8ae-42e9aa88994b",
      "metadata": {
        "tags": []
      },
      "outputs": [
        {
          "name": "stderr",
          "output_type": "stream",
          "text": [
            "[I 240423 09:36:11 smartConnect:121] in pool\n"
          ]
        }
      ],
      "source": [
        "smartApi = connect_api(api_key)\n",
        "data = create_api_session(token_id, username, pwd, smartApi)"
      ]
    },
    {
      "cell_type": "code",
      "execution_count": 4,
      "id": "546a1e57",
      "metadata": {},
      "outputs": [],
      "source": [
        "token_list = [\n",
        "        {\n",
        "            \"exchangeType\": 1,\n",
        "            \"tokens\": [\"26009\"]\n",
        "        }\n",
        "    ]"
      ]
    },
    {
      "cell_type": "code",
      "execution_count": 5,
      "id": "5f906ab6-a65c-41e2-aa69-6362c2a92cbb",
      "metadata": {
        "tags": []
      },
      "outputs": [],
      "source": [
        "sws = get_data_stream(token_id, api_key, username, smartApi.getfeedToken(), token_list)"
      ]
    },
    {
      "cell_type": "markdown",
      "metadata": {},
      "source": [
        "### Order Book Strategy"
      ]
    },
    {
      "cell_type": "code",
      "execution_count": null,
      "id": "acff5618",
      "metadata": {},
      "outputs": [],
      "source": [
        "instrument_list = get_instrument_list()\n",
        "\n",
        "tickers = [\"WIPRO\",\"ULTRACEMCO\",\"UPL\",\"TITAN\",\"TECHM\",\"TATASTEEL\",\"TATAMOTORS\",\n",
        "           \"TATACONSUM\",\"TCS\",\"SUNPHARMA\",\"SBIN\",\"SBILIFE\",\"RELIANCE\",\"POWERGRID\",\n",
        "           \"ONGC\",\"NESTLEIND\",\"NTPC\",\"MARUTI\",\"M&M\",\"LT\",\"KOTAKBANK\",\"JSWSTEEL\",\n",
        "           \"INFY\",\"INDUSINDBK\",\"ITC\",\"ICICIBANK\",\"HDFC\",\"HINDUNILVR\",\"HINDALCO\",\n",
        "           \"HEROMOTOCO\",\"HDFCLIFE\",\"HDFCBANK\",\"HCLTECH\",\"GRASIM\",\"EICHERMOT\",\n",
        "           \"DRREDDY\",\"DIVISLAB\",\"COALINDIA\",\"CIPLA\",\"BRITANNIA\",\"BHARTIARTL\",\n",
        "           \"BPCL\",\"BAJAJFINSV\",\"BAJFINANCE\",\"BAJAJ-AUTO\",\"AXISBANK\",\"ASIANPAINT\",\n",
        "           \"APOLLOHOSP\",\"ADANIPORTS\",\"ADANIENT\"]\n",
        "\n",
        "\n",
        "bid_ask_ratio = {}\n",
        "long_trades = {}\n",
        "short_trades = {}\n",
        "\n",
        "for ticker in tickers:\n",
        "    bid_ask_ratio[ticker] = []\n",
        "    long_trades[ticker] = []\n",
        "    short_trades[ticker] = []\n",
        "\n",
        "pos_size = 10000\n",
        "\n",
        "long_pos = []\n",
        "short_pos = []\n",
        "\n",
        "correlation_id = \"stream_1\" #any string value which will help identify the specific streaming in case of concurrent streaming\n",
        "action = 1 #1 subscribe, 0 unsubscribe\n",
        "mode = 3 #1 for LTP, 2 for Quote and 2 for SnapQuote\n",
        "token_list = [{\"exchangeType\": 1, \"tokens\": [token_lookup(i,instrument_list) for i in tickers]}]\n",
        "\n",
        "\n",
        "def on_data(ws, message):\n",
        "    market_pressure(message)\n",
        "    \n",
        "def on_open(ws):\n",
        "    print(\"on open\")\n",
        "    sws.subscribe(correlation_id, mode, token_list)\n",
        "    \n",
        "def on_error(ws, error):\n",
        "    print(error)\n",
        "    \n",
        "\n",
        "# Assign the callbacks.\n",
        "sws.on_open = on_open\n",
        "sws.on_data = on_data\n",
        "sws.on_error = on_error\n",
        "\n",
        "sws.connect()"
      ]
    }
  ],
  "metadata": {
    "file_history": [
      {
        "id": 0,
        "path": "shared - Morningstar/Raj/r-alpha/r-alpha.ipynb"
      }
    ],
    "kernelspec": {
      "display_name": "Python 3",
      "language": "python",
      "name": "python3"
    },
    "language_info": {
      "codemirror_mode": {
        "name": "ipython",
        "version": 3
      },
      "file_extension": ".py",
      "mimetype": "text/x-python",
      "name": "python",
      "nbconvert_exporter": "python",
      "pygments_lexer": "ipython3",
      "version": "3.10.6"
    }
  },
  "nbformat": 4,
  "nbformat_minor": 5
}
